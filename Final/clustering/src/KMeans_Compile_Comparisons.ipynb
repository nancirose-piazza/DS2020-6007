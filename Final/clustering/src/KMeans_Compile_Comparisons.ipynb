{
  "nbformat": 4,
  "nbformat_minor": 0,
  "metadata": {
    "kernelspec": {
      "display_name": "Python 3",
      "language": "python",
      "name": "python3"
    },
    "language_info": {
      "codemirror_mode": {
        "name": "ipython",
        "version": 3
      },
      "file_extension": ".py",
      "mimetype": "text/x-python",
      "name": "python",
      "nbconvert_exporter": "python",
      "pygments_lexer": "ipython3",
      "version": "3.6.10"
    },
    "colab": {
      "name": "KMeans-Compile Comparisons.ipynb",
      "provenance": [],
      "collapsed_sections": [],
      "toc_visible": true
    }
  },
  "cells": [
    {
      "cell_type": "markdown",
      "metadata": {
        "id": "a0TipCFrDjVE",
        "colab_type": "text"
      },
      "source": [
        "## Timetable contains the compiling time for:\n",
        "#### K-means (5) - device location\n",
        "#### K-means (2,4) - synthetic location\n",
        "#### K-means (2,4,6) - DBpedia location"
      ]
    },
    {
      "cell_type": "code",
      "metadata": {
        "id": "x-pU7J7_OJAU",
        "colab_type": "code",
        "colab": {}
      },
      "source": [
        "times =[[14.602802276611328, 4.4826929569244385, 35.20422840118408],[4.049744606018066, 2.4491167068481445, 22.80961537361145],[13.699434757232666, 4.802165746688843, 44.46165060997009],[12.53220009803772, 5.114776849746704, 30.49740505218506]]"
      ],
      "execution_count": 0,
      "outputs": []
    },
    {
      "cell_type": "code",
      "metadata": {
        "id": "ruTgYJqOOb7a",
        "colab_type": "code",
        "colab": {}
      },
      "source": [
        "import pandas as pd\n",
        "df = pd.DataFrame(times,columns=['device','synthetic','dbpedia'],index=['EMR_no_cache','EMR_cache','local[2]_no_cache','local[2]_cache'])"
      ],
      "execution_count": 0,
      "outputs": []
    },
    {
      "cell_type": "code",
      "metadata": {
        "id": "MLB91FX0O76-",
        "colab_type": "code",
        "outputId": "dd02e270-dee0-472c-8241-ce677f15aeae",
        "colab": {
          "base_uri": "https://localhost:8080/",
          "height": 175
        }
      },
      "source": [
        "df"
      ],
      "execution_count": 0,
      "outputs": [
        {
          "output_type": "execute_result",
          "data": {
            "text/html": [
              "<div>\n",
              "<style scoped>\n",
              "    .dataframe tbody tr th:only-of-type {\n",
              "        vertical-align: middle;\n",
              "    }\n",
              "\n",
              "    .dataframe tbody tr th {\n",
              "        vertical-align: top;\n",
              "    }\n",
              "\n",
              "    .dataframe thead th {\n",
              "        text-align: right;\n",
              "    }\n",
              "</style>\n",
              "<table border=\"1\" class=\"dataframe\">\n",
              "  <thead>\n",
              "    <tr style=\"text-align: right;\">\n",
              "      <th></th>\n",
              "      <th>device</th>\n",
              "      <th>synthetic</th>\n",
              "      <th>dbpedia</th>\n",
              "    </tr>\n",
              "  </thead>\n",
              "  <tbody>\n",
              "    <tr>\n",
              "      <th>EMR_no_cache</th>\n",
              "      <td>14.602802</td>\n",
              "      <td>4.482693</td>\n",
              "      <td>35.204228</td>\n",
              "    </tr>\n",
              "    <tr>\n",
              "      <th>EMR_cache</th>\n",
              "      <td>4.049745</td>\n",
              "      <td>2.449117</td>\n",
              "      <td>22.809615</td>\n",
              "    </tr>\n",
              "    <tr>\n",
              "      <th>local[2]_no_cache</th>\n",
              "      <td>13.699435</td>\n",
              "      <td>4.802166</td>\n",
              "      <td>44.461651</td>\n",
              "    </tr>\n",
              "    <tr>\n",
              "      <th>local[2]_cache</th>\n",
              "      <td>12.532200</td>\n",
              "      <td>5.114777</td>\n",
              "      <td>30.497405</td>\n",
              "    </tr>\n",
              "  </tbody>\n",
              "</table>\n",
              "</div>"
            ],
            "text/plain": [
              "                      device  synthetic    dbpedia\n",
              "EMR_no_cache       14.602802   4.482693  35.204228\n",
              "EMR_cache           4.049745   2.449117  22.809615\n",
              "local[2]_no_cache  13.699435   4.802166  44.461651\n",
              "local[2]_cache     12.532200   5.114777  30.497405"
            ]
          },
          "metadata": {
            "tags": []
          },
          "execution_count": 35
        }
      ]
    },
    {
      "cell_type": "code",
      "metadata": {
        "id": "_Px_fh46Lgt_",
        "colab_type": "code",
        "outputId": "78bc63b7-dd96-45c1-af0b-025bc709897a",
        "colab": {
          "base_uri": "https://localhost:8080/",
          "height": 451
        }
      },
      "source": [
        "import matplotlib.pyplot as plt\n",
        "df.plot(kind='bar',rot=45,title=\"time comparisons\",figsize=(10,6))\n",
        "plt.ylabel(\"seconds\")\n",
        "plt.show()"
      ],
      "execution_count": 0,
      "outputs": [
        {
          "output_type": "display_data",
          "data": {
            "image/png": "[encoded data removed]",
            "text/plain": [
              "<Figure size 720x432 with 1 Axes>"
            ]
          },
          "metadata": {
            "tags": [],
            "needs_background": "light"
          }
        }
      ]
    }
  ]
}