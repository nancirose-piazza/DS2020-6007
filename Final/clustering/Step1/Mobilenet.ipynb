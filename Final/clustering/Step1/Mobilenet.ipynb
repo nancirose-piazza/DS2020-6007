{
  "nbformat": 4,
  "nbformat_minor": 0,
  "metadata": {
    "colab": {
      "name": "Mobilenet.ipynb",
      "provenance": [],
      "collapsed_sections": []
    },
    "kernelspec": {
      "display_name": "Python 3",
      "language": "python",
      "name": "python3"
    }
  },
  "cells": [
    {
      "cell_type": "code",
      "metadata": {
        "colab_type": "code",
        "id": "iZQ8SgQlykIs",
        "colab": {}
      },
      "source": [
        "import os\n",
        "import sys\n",
        "os.environ['SPARK_HOME'] ='/content/spark'\n",
        "os.environ['JAVA_HOME'] ='/usr/lib/jvm/java-8-openjdk-amd64'"
      ],
      "execution_count": 0,
      "outputs": []
    },
    {
      "cell_type": "code",
      "metadata": {
        "colab_type": "code",
        "id": "IQ0ni0_xzwsh",
        "colab": {}
      },
      "source": [
        "from pyspark import SparkContext\n",
        "from pyspark.sql import SQLContext\n",
        "from pyspark.sql import SparkSession\n",
        "from pyspark.conf import SparkConf"
      ],
      "execution_count": 0,
      "outputs": []
    },
    {
      "cell_type": "code",
      "metadata": {
        "colab_type": "code",
        "id": "GJ1YF8pkz_Cx",
        "colab": {}
      },
      "source": [
        "#for pseudo-cluster set-up\n",
        "sc = SparkContext()\n",
        "spark = SparkSession(sc)\n",
        "sqlContext = SQLContext(sc)"
      ],
      "execution_count": 0,
      "outputs": []
    },
    {
      "cell_type": "markdown",
      "metadata": {
        "colab_type": "text",
        "id": "JMT_6rJnxwXN"
      },
      "source": [
        "# Loading in from bucket"
      ]
    },
    {
      "cell_type": "code",
      "metadata": {
        "colab_type": "code",
        "id": "rs1X05bHyemi",
        "colab": {}
      },
      "source": [
        "import findspark\n",
        "findspark.init()"
      ],
      "execution_count": 0,
      "outputs": []
    },
    {
      "cell_type": "code",
      "metadata": {
        "colab_type": "code",
        "id": "qdOyxNJFxp7i",
        "colab": {}
      },
      "source": [
        "thebucket=\"s3://6007.finalproject/devicestatus.txt\""
      ],
      "execution_count": 0,
      "outputs": []
    },
    {
      "cell_type": "code",
      "metadata": {
        "colab_type": "code",
        "id": "TS6JOKa70mL5",
        "colab": {}
      },
      "source": [
        "import re\n",
        "\n",
        "pattern=\"[\\/|]\"\n",
        "substitute=\",\"\n",
        "\n",
        "##splits samples by newline, then by commas, then takes the first two and last two values.\n",
        "devicestatus = sc.textFile(thebucket).\\\n",
        "flatMap(lambda x: x.split(\"\\n\"))\\\n",
        ".map(lambda x: re.sub(pattern,substitute,x))\\\n",
        ".map(lambda x: x.split(\",\"))\\\n",
        ".map(lambda x: (x[0],x[1],x[-2],x[-1]))\\\n",
        ".filter(lambda x: type(x[-2]==float) and type(x[-1]==float))\\\n",
        ".map(lambda x: (float(x[-2]),float(x[-1]),x[0],x[1].split()))\\\n",
        ".map(lambda x: (x[0],x[1],x[2],x[3][0],x[3][1]))\\\n",
        ".filter(lambda x: x[0]!=0 and x[1]!=0)"
      ],
      "execution_count": 0,
      "outputs": []
    },
    {
      "cell_type": "code",
      "metadata": {
        "colab_type": "code",
        "id": "lqHRrLcAefrt",
        "outputId": "168f1387-6475-4155-d3a4-42e97f2bdf42",
        "colab": {
          "base_uri": "https://localhost:8080/",
          "height": 73
        }
      },
      "source": [
        "devicestatus.take(3)"
      ],
      "execution_count": 0,
      "outputs": [
        {
          "output_type": "execute_result",
          "data": {
            "text/plain": [
              "[(33.6894754264, -117.543308253, '2014-03-15:10:10:20', 'Sorrento', 'F41L'),\n",
              " (37.4321088904, -121.485029632, '2014-03-15:10:10:20', 'MeeToo', '1.0'),\n",
              " (39.4378908349, -120.938978486, '2014-03-15:10:10:20', 'MeeToo', '1.0')]"
            ]
          },
          "metadata": {
            "tags": []
          },
          "execution_count": 6
        }
      ]
    },
    {
      "cell_type": "code",
      "metadata": {
        "colab_type": "code",
        "id": "IJW2axP21hm5",
        "colab": {}
      },
      "source": [
        "from pyspark.sql import types\n",
        "ds_df = spark.createDataFrame(devicestatus, schema=types.StructType([\\\n",
        "                                                        types.StructField('latitude', types.FloatType(),True),\n",
        "                                                        types.StructField('longtitude', types.FloatType(),True),\n",
        "                                                        types.StructField('datestr', types.StringType(),True),\n",
        "                                                        types.StructField('manufacturer', types.StringType(),True),\n",
        "                                                        types.StructField('model_name', types.StringType(),True)\n",
        "]))"
      ],
      "execution_count": 0,
      "outputs": []
    },
    {
      "cell_type": "code",
      "metadata": {
        "colab_type": "code",
        "id": "mP1srhKSpCV4",
        "colab": {}
      },
      "source": [
        "from  pyspark.sql.functions import col,unix_timestamp, from_unixtime\n",
        "\n",
        "df = ds_df.withColumn('date', \n",
        "                   from_unixtime(unix_timestamp(col('datestr'), 'yy-MM-dd:HH:mm:ss').alias('date')))\n",
        "df = df.select(df.latitude,df.longtitude,df.date,df.manufacturer,df.model_name)"
      ],
      "execution_count": 0,
      "outputs": []
    },
    {
      "cell_type": "code",
      "metadata": {
        "colab_type": "code",
        "id": "wchAgbiM85I0",
        "colab": {}
      },
      "source": [
        "output_bucket=\"s3://6007.finalproject/parsed_data\""
      ],
      "execution_count": 0,
      "outputs": []
    },
    {
      "cell_type": "code",
      "metadata": {
        "colab_type": "code",
        "id": "szdU-i7muZfq",
        "colab": {}
      },
      "source": [
        "df.rdd.coalesce(1).saveAsTextFile(output_bucket)"
      ],
      "execution_count": 0,
      "outputs": []
    },
    {
      "cell_type": "code",
      "metadata": {
        "colab_type": "code",
        "id": "zo7Fy_8zECLO",
        "colab": {},
        "outputId": "8c0ce552-2f28-45f0-826e-33e11aff3f3f"
      },
      "source": [
        "sc.textFile(output_bucket).take(10)"
      ],
      "execution_count": 0,
      "outputs": [
        {
          "output_type": "execute_result",
          "data": {
            "text/plain": [
              "[\"Row(latitude=33.689476013183594, longtitude=-117.54330444335938, date='2014-03-15 10:10:20', manufacturer='Sorrento', model_name='F41L')\",\n",
              " \"Row(latitude=37.43210983276367, longtitude=-121.48503112792969, date='2014-03-15 10:10:20', manufacturer='MeeToo', model_name='1.0')\",\n",
              " \"Row(latitude=39.437889099121094, longtitude=-120.93898010253906, date='2014-03-15 10:10:20', manufacturer='MeeToo', model_name='1.0')\",\n",
              " \"Row(latitude=39.36351776123047, longtitude=-119.40033721923828, date='2014-03-15 10:10:20', manufacturer='Sorrento', model_name='F41L')\",\n",
              " \"Row(latitude=33.19135665893555, longtitude=-116.4482421875, date='2014-03-15 10:10:20', manufacturer='Ronin', model_name='Novelty')\",\n",
              " \"Row(latitude=33.834354400634766, longtitude=-117.33000183105469, date='2014-03-15 10:10:20', manufacturer='Sorrento', model_name='F41L')\",\n",
              " \"Row(latitude=37.380393981933594, longtitude=-121.84075927734375, date='2014-03-15 10:10:20', manufacturer='Sorrento', model_name='F33L')\",\n",
              " \"Row(latitude=34.184104919433594, longtitude=-117.94353485107422, date='2014-03-15 10:10:20', manufacturer='MeeToo', model_name='4.1')\",\n",
              " \"Row(latitude=32.285057067871094, longtitude=-111.819580078125, date='2014-03-15 10:10:20', manufacturer='Ronin', model_name='Novelty')\",\n",
              " \"Row(latitude=45.24005126953125, longtitude=-122.3774642944336, date='2014-03-15 10:10:20', manufacturer='Sorrento', model_name='F41L')\"]"
            ]
          },
          "metadata": {
            "tags": []
          },
          "execution_count": 12
        }
      ]
    },
    {
      "cell_type": "code",
      "metadata": {
        "colab_type": "code",
        "id": "x23QrdHcDXQA",
        "colab": {}
      },
      "source": [
        "lat_long = devicestatus.map(lambda x: (x[0],x[1]))\n",
        "lat_long = lat_long.collect()"
      ],
      "execution_count": 0,
      "outputs": []
    },
    {
      "cell_type": "code",
      "metadata": {
        "colab_type": "code",
        "id": "FbRi9GT4D1eo",
        "colab": {}
      },
      "source": [
        "import numpy as np\n",
        "lat_long = np.array(lat_long)"
      ],
      "execution_count": 0,
      "outputs": []
    },
    {
      "cell_type": "code",
      "metadata": {
        "collapsed": true,
        "id": "ulWQV0SPSoQg",
        "colab_type": "code",
        "colab": {},
        "outputId": "ae62a779-d9fc-4784-9a70-51e3c937f176"
      },
      "source": [
        "!sudo python3 -m pip install matplotlib"
      ],
      "execution_count": 0,
      "outputs": [
        {
          "output_type": "stream",
          "text": [
            "Collecting matplotlib\n",
            "  Downloading https://files.pythonhosted.org/packages/93/4b/52da6b1523d5139d04e02d9e26ceda6146b48f2a4e5d2abfdf1c7bac8c40/matplotlib-3.2.1-cp36-cp36m-manylinux1_x86_64.whl (12.4MB)\n",
            "\u001b[K    100% |████████████████████████████████| 12.4MB 108kB/s eta 0:00:01\n",
            "\u001b[?25hRequirement already satisfied: pyparsing!=2.0.4,!=2.1.2,!=2.1.6,>=2.0.1 in /usr/local/lib/python3.6/site-packages (from matplotlib)\n",
            "Collecting cycler>=0.10 (from matplotlib)\n",
            "  Downloading https://files.pythonhosted.org/packages/f7/d2/e07d3ebb2bd7af696440ce7e754c59dd546ffe1bbe732c8ab68b9c834e61/cycler-0.10.0-py2.py3-none-any.whl\n",
            "Requirement already satisfied: numpy>=1.11 in /usr/local/lib64/python3.6/site-packages (from matplotlib)\n",
            "Requirement already satisfied: python-dateutil>=2.1 in /usr/local/lib/python3.6/site-packages (from matplotlib)\n",
            "Collecting kiwisolver>=1.0.1 (from matplotlib)\n",
            "  Downloading https://files.pythonhosted.org/packages/ae/23/147de658aabbf968324551ea22c0c13a00284c4ef49a77002e91f79657b7/kiwisolver-1.2.0-cp36-cp36m-manylinux1_x86_64.whl (88kB)\n",
            "\u001b[K    100% |████████████████████████████████| 92kB 10.4MB/s ta 0:00:01\n",
            "\u001b[?25hRequirement already satisfied: six in /usr/local/lib/python3.6/site-packages (from cycler>=0.10->matplotlib)\n",
            "Installing collected packages: cycler, kiwisolver, matplotlib\n",
            "Successfully installed cycler-0.10.0 kiwisolver-1.2.0 matplotlib-3.2.1\n",
            "\u001b[33mYou are using pip version 9.0.3, however version 20.1 is available.\n",
            "You should consider upgrading via the 'pip install --upgrade pip' command.\u001b[0m\n"
          ],
          "name": "stdout"
        }
      ]
    },
    {
      "cell_type": "code",
      "metadata": {
        "colab_type": "code",
        "id": "JcbgRFCLDY9w",
        "outputId": "97184015-2dd7-46b7-d4ab-bc38b2077d58",
        "colab": {
          "base_uri": "https://localhost:8080/",
          "height": 413
        }
      },
      "source": [
        "import matplotlib.pyplot as plt\n",
        "from matplotlib.pyplot import figure\n",
        "figure(num=None, figsize=(8, 6), dpi=80, facecolor='w', edgecolor='k')\n",
        "\n",
        "plt.scatter(lat_long[:,0],lat_long[:,1],alpha=.2,marker='o',s=.03)\n",
        "plt.show()"
      ],
      "execution_count": 0,
      "outputs": [
        {
          "output_type": "display_data",
          "data": {
            "image/png": "[encoded data removed]",
            "text/plain": [
              "<Figure size 640x480 with 1 Axes>"
            ]
          },
          "metadata": {
            "tags": []
          }
        }
      ]
    }
  ]
}